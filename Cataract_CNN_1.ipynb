{
 "cells": [
  {
   "cell_type": "code",
   "execution_count": 14,
   "id": "3f81af3a-aaf1-46b2-a897-2e8221609cbd",
   "metadata": {},
   "outputs": [],
   "source": [
    "import pandas as pd\n",
    "import numpy as np\n",
    "import matplotlib.pyplot as plt\n",
    "import tensorflow as tf\n",
    "import os\n",
    "from imutils import paths\n",
    "from keras.preprocessing.image import ImageDataGenerator"
   ]
  },
  {
   "cell_type": "code",
   "execution_count": 16,
   "id": "e66ccc16-f6d7-4b6f-adcd-0f45adecbf3d",
   "metadata": {},
   "outputs": [
    {
     "name": "stdout",
     "output_type": "stream",
     "text": [
      "Note: you may need to restart the kernel to use updated packages.\n"
     ]
    }
   ],
   "source": [
    "pip freeze > requirements.txt"
   ]
  },
  {
   "cell_type": "markdown",
   "id": "f63f03ff-d02f-4773-a0fc-6b22490de7d8",
   "metadata": {},
   "source": [
    "# Importing Dataset"
   ]
  },
  {
   "cell_type": "code",
   "execution_count": 3,
   "id": "aa66ce1f-1385-4262-b047-ea3f34eddb7f",
   "metadata": {},
   "outputs": [],
   "source": [
    "ds = r\"C:\\Users\\Dikshant Gupta\\Desktop\\GAIP\\Project\\Merged Dataset\""
   ]
  },
  {
   "cell_type": "code",
   "execution_count": 4,
   "id": "5962a671-b709-4a17-8653-8fe4f9ff2a90",
   "metadata": {},
   "outputs": [],
   "source": [
    "Test_path=os.path.sep.join([ds, \"Test\"])\n",
    "Train_path=os.path.sep.join([ds, \"Train\"])\n",
    "Val_path=os.path.sep.join([ds, \"Val\"])"
   ]
  },
  {
   "cell_type": "code",
   "execution_count": 5,
   "id": "c9fbdfa5-ae97-47ab-99cb-331e65cd2082",
   "metadata": {},
   "outputs": [
    {
     "data": {
      "text/plain": [
       "61"
      ]
     },
     "execution_count": 5,
     "metadata": {},
     "output_type": "execute_result"
    }
   ],
   "source": [
    "totalTest = len(list(paths.list_images(Test_path)))\n",
    "totalTest"
   ]
  },
  {
   "cell_type": "code",
   "execution_count": 6,
   "id": "23ccb4f2-ae70-4773-bac2-d1b42c730c3f",
   "metadata": {},
   "outputs": [
    {
     "data": {
      "text/plain": [
       "2992"
      ]
     },
     "execution_count": 6,
     "metadata": {},
     "output_type": "execute_result"
    }
   ],
   "source": [
    "totalTrain = len(list(paths.list_images(Train_path)))\n",
    "totalTrain"
   ]
  },
  {
   "cell_type": "code",
   "execution_count": 7,
   "id": "48af5c45-b374-4a46-bc2a-e80e0acedd2a",
   "metadata": {},
   "outputs": [
    {
     "data": {
      "text/plain": [
       "748"
      ]
     },
     "execution_count": 7,
     "metadata": {},
     "output_type": "execute_result"
    }
   ],
   "source": [
    "totalVal = len(list(paths.list_images(Val_path)))\n",
    "totalVal"
   ]
  },
  {
   "cell_type": "markdown",
   "id": "a41dd4e5-39cb-4a6b-b9e5-30202c89323b",
   "metadata": {},
   "source": [
    "# Data Augmentation"
   ]
  },
  {
   "cell_type": "code",
   "execution_count": 8,
   "id": "586e7def-c306-49ff-b813-f8ef8a3ead78",
   "metadata": {},
   "outputs": [],
   "source": [
    "ds_aug = ImageDataGenerator(horizontal_flip=True,\n",
    "                            rescale=1 / 255.0,\n",
    "                            rotation_range=20,\n",
    "                            zoom_range=0.25,\n",
    "                            width_shift_range=0.1,\n",
    "                            height_shift_range=0.1,\n",
    "                            shear_range=0.1,\n",
    "                            fill_mode=\"nearest\")\n",
    "ds_aug2 = ImageDataGenerator(rescale=1 / 255.0)"
   ]
  },
  {
   "cell_type": "code",
   "execution_count": 9,
   "id": "901d33d3-8f79-4da8-99f6-f1f15c72e46b",
   "metadata": {},
   "outputs": [
    {
     "name": "stdout",
     "output_type": "stream",
     "text": [
      "Found 2992 images belonging to 2 classes.\n",
      "Found 748 images belonging to 2 classes.\n"
     ]
    }
   ],
   "source": [
    "training_data = ds_aug.flow_from_directory(Train_path,\n",
    "                                            target_size=(64,64),\n",
    "                                            batch_size=10,\n",
    "                                            class_mode='binary',\n",
    "                                            color_mode=\"rgb\",\n",
    "                                            shuffle=False)\n",
    "\n",
    "val_data = ds_aug2.flow_from_directory(Val_path,\n",
    "                                        target_size=(64,64),\n",
    "                                        batch_size=10,\n",
    "                                        class_mode='binary',\n",
    "                                        color_mode=\"rgb\",\n",
    "                                        shuffle=False)"
   ]
  },
  {
   "cell_type": "code",
   "execution_count": 10,
   "id": "2dbb98aa-748c-4463-ba43-207b7d4fd849",
   "metadata": {},
   "outputs": [
    {
     "data": {
      "text/plain": [
       "2992"
      ]
     },
     "execution_count": 10,
     "metadata": {},
     "output_type": "execute_result"
    }
   ],
   "source": [
    "training_data.samples"
   ]
  },
  {
   "cell_type": "markdown",
   "id": "7e4d1603-8701-4f85-b562-a6c5c0002b1c",
   "metadata": {},
   "source": [
    "# Model Training"
   ]
  },
  {
   "cell_type": "code",
   "execution_count": 13,
   "id": "0d1ab145-2073-41bb-8e0b-13c39f74a217",
   "metadata": {},
   "outputs": [],
   "source": [
    "from keras.models import Sequential\n",
    "from keras.layers import LSTM, Dense, Flatten, Dropout, Conv2D, MaxPooling2D, Reshape, Activation"
   ]
  },
  {
   "cell_type": "code",
   "execution_count": 33,
   "id": "b85b313d-4e2a-41cb-bbe0-27e60edc70ad",
   "metadata": {},
   "outputs": [],
   "source": [
    "# Building the model\n",
    "model = Sequential()\n",
    "\n",
    "# 3 convolutional layers\n",
    "model.add(Conv2D(32, (3, 3), input_shape = (64,64,3)))\n",
    "model.add(Activation(\"relu\"))\n",
    "model.add(MaxPooling2D(pool_size=(2,2)))\n",
    "\n",
    "model.add(Conv2D(64, (3, 3)))\n",
    "model.add(Activation(\"relu\"))\n",
    "model.add(MaxPooling2D(pool_size=(2,2)))\n",
    "\n",
    "model.add(Conv2D(32, (3, 3)))\n",
    "model.add(Activation(\"relu\"))\n",
    "model.add(MaxPooling2D(pool_size=(2,2)))\n",
    "\n",
    "model.add(Dropout(0.25))\n",
    "model.add(Flatten())\n",
    "model.add(Dense(1))\n",
    "model.add(Activation('sigmoid'))"
   ]
  },
  {
   "cell_type": "code",
   "execution_count": 34,
   "id": "1ecef43b-ff8a-48f1-b423-86942c9456a7",
   "metadata": {
    "tags": []
   },
   "outputs": [
    {
     "name": "stdout",
     "output_type": "stream",
     "text": [
      "Model: \"sequential_4\"\n",
      "_________________________________________________________________\n",
      " Layer (type)                Output Shape              Param #   \n",
      "=================================================================\n",
      " conv2d_7 (Conv2D)           (None, 62, 62, 32)        896       \n",
      "                                                                 \n",
      " activation_7 (Activation)   (None, 62, 62, 32)        0         \n",
      "                                                                 \n",
      " max_pooling2d_6 (MaxPooling  (None, 31, 31, 32)       0         \n",
      " 2D)                                                             \n",
      "                                                                 \n",
      " conv2d_8 (Conv2D)           (None, 29, 29, 64)        18496     \n",
      "                                                                 \n",
      " activation_8 (Activation)   (None, 29, 29, 64)        0         \n",
      "                                                                 \n",
      " max_pooling2d_7 (MaxPooling  (None, 14, 14, 64)       0         \n",
      " 2D)                                                             \n",
      "                                                                 \n",
      " conv2d_9 (Conv2D)           (None, 12, 12, 32)        18464     \n",
      "                                                                 \n",
      " activation_9 (Activation)   (None, 12, 12, 32)        0         \n",
      "                                                                 \n",
      " max_pooling2d_8 (MaxPooling  (None, 6, 6, 32)         0         \n",
      " 2D)                                                             \n",
      "                                                                 \n",
      " dropout_2 (Dropout)         (None, 6, 6, 32)          0         \n",
      "                                                                 \n",
      " flatten_1 (Flatten)         (None, 1152)              0         \n",
      "                                                                 \n",
      " dense_1 (Dense)             (None, 1)                 1153      \n",
      "                                                                 \n",
      " activation_10 (Activation)  (None, 1)                 0         \n",
      "                                                                 \n",
      "=================================================================\n",
      "Total params: 39,009\n",
      "Trainable params: 39,009\n",
      "Non-trainable params: 0\n",
      "_________________________________________________________________\n"
     ]
    }
   ],
   "source": [
    "model.summary()"
   ]
  },
  {
   "cell_type": "code",
   "execution_count": 35,
   "id": "6235ef5c-a2f8-4e64-bdf0-234789bda011",
   "metadata": {},
   "outputs": [],
   "source": [
    "model.compile(loss=\"binary_crossentropy\",\n",
    "           optimizer='adam',\n",
    "           metrics=[\"accuracy\"])"
   ]
  },
  {
   "cell_type": "code",
   "execution_count": 48,
   "id": "03c11b3d-7fa3-48e7-a04d-4331a4c1ff28",
   "metadata": {},
   "outputs": [
    {
     "name": "stdout",
     "output_type": "stream",
     "text": [
      "Epoch 1/70\n",
      "300/300 [==============================] - 12s 41ms/step - loss: 0.0223 - accuracy: 0.9926 - val_loss: 0.0422 - val_accuracy: 0.9866\n",
      "Epoch 2/70\n",
      "300/300 [==============================] - 12s 40ms/step - loss: 0.0350 - accuracy: 0.9860 - val_loss: 0.0462 - val_accuracy: 0.9826\n",
      "Epoch 3/70\n",
      "300/300 [==============================] - 13s 42ms/step - loss: 0.0398 - accuracy: 0.9873 - val_loss: 0.0399 - val_accuracy: 0.9906\n",
      "Epoch 4/70\n",
      "300/300 [==============================] - 12s 41ms/step - loss: 0.0217 - accuracy: 0.9923 - val_loss: 0.0365 - val_accuracy: 0.9853\n",
      "Epoch 5/70\n",
      "300/300 [==============================] - 13s 42ms/step - loss: 0.0306 - accuracy: 0.9870 - val_loss: 0.0405 - val_accuracy: 0.9893\n",
      "Epoch 6/70\n",
      "300/300 [==============================] - 12s 41ms/step - loss: 0.0284 - accuracy: 0.9893 - val_loss: 0.0526 - val_accuracy: 0.9866\n",
      "Epoch 7/70\n",
      "300/300 [==============================] - 13s 42ms/step - loss: 0.0351 - accuracy: 0.9900 - val_loss: 0.0691 - val_accuracy: 0.9799\n",
      "Epoch 8/70\n",
      "300/300 [==============================] - 13s 43ms/step - loss: 0.0323 - accuracy: 0.9886 - val_loss: 0.0617 - val_accuracy: 0.9826\n",
      "Epoch 9/70\n",
      "300/300 [==============================] - 13s 43ms/step - loss: 0.0289 - accuracy: 0.9890 - val_loss: 0.0403 - val_accuracy: 0.9906\n",
      "Epoch 10/70\n",
      "300/300 [==============================] - 13s 43ms/step - loss: 0.0301 - accuracy: 0.9906 - val_loss: 0.0679 - val_accuracy: 0.9866\n",
      "Epoch 11/70\n",
      "300/300 [==============================] - 13s 43ms/step - loss: 0.0488 - accuracy: 0.9840 - val_loss: 0.0473 - val_accuracy: 0.9880\n",
      "Epoch 12/70\n",
      "300/300 [==============================] - 13s 42ms/step - loss: 0.0210 - accuracy: 0.9920 - val_loss: 0.0577 - val_accuracy: 0.9853\n",
      "Epoch 13/70\n",
      "300/300 [==============================] - 13s 44ms/step - loss: 0.0406 - accuracy: 0.9846 - val_loss: 0.0483 - val_accuracy: 0.9880\n",
      "Epoch 14/70\n",
      "300/300 [==============================] - 13s 44ms/step - loss: 0.0388 - accuracy: 0.9886 - val_loss: 0.0440 - val_accuracy: 0.9866\n",
      "Epoch 15/70\n",
      "300/300 [==============================] - 13s 44ms/step - loss: 0.0378 - accuracy: 0.9860 - val_loss: 0.0387 - val_accuracy: 0.9906\n",
      "Epoch 16/70\n",
      "300/300 [==============================] - 14s 46ms/step - loss: 0.0221 - accuracy: 0.9933 - val_loss: 0.0402 - val_accuracy: 0.9906\n",
      "Epoch 17/70\n",
      "300/300 [==============================] - 14s 45ms/step - loss: 0.0342 - accuracy: 0.9873 - val_loss: 0.0582 - val_accuracy: 0.9853\n",
      "Epoch 18/70\n",
      "300/300 [==============================] - 13s 45ms/step - loss: 0.0267 - accuracy: 0.9906 - val_loss: 0.0360 - val_accuracy: 0.9880\n",
      "Epoch 19/70\n",
      "300/300 [==============================] - 13s 45ms/step - loss: 0.0217 - accuracy: 0.9936 - val_loss: 0.0315 - val_accuracy: 0.9893\n",
      "Epoch 20/70\n",
      "300/300 [==============================] - 14s 45ms/step - loss: 0.0276 - accuracy: 0.9903 - val_loss: 0.0438 - val_accuracy: 0.9866\n",
      "Epoch 21/70\n",
      "300/300 [==============================] - 14s 48ms/step - loss: 0.0220 - accuracy: 0.9916 - val_loss: 0.0364 - val_accuracy: 0.9906\n",
      "Epoch 22/70\n",
      "300/300 [==============================] - 14s 45ms/step - loss: 0.0240 - accuracy: 0.9926 - val_loss: 0.0682 - val_accuracy: 0.9840\n",
      "Epoch 23/70\n",
      "300/300 [==============================] - 13s 45ms/step - loss: 0.0371 - accuracy: 0.9873 - val_loss: 0.0441 - val_accuracy: 0.9880\n",
      "Epoch 24/70\n",
      "300/300 [==============================] - 13s 44ms/step - loss: 0.0184 - accuracy: 0.9930 - val_loss: 0.0355 - val_accuracy: 0.9906\n",
      "Epoch 25/70\n",
      "300/300 [==============================] - 14s 45ms/step - loss: 0.0340 - accuracy: 0.9893 - val_loss: 0.0325 - val_accuracy: 0.9906\n",
      "Epoch 26/70\n",
      "300/300 [==============================] - 14s 45ms/step - loss: 0.0369 - accuracy: 0.9876 - val_loss: 0.0548 - val_accuracy: 0.9866\n",
      "Epoch 27/70\n",
      "300/300 [==============================] - 14s 48ms/step - loss: 0.0233 - accuracy: 0.9916 - val_loss: 0.0386 - val_accuracy: 0.9880\n",
      "Epoch 28/70\n",
      "300/300 [==============================] - 14s 46ms/step - loss: 0.0269 - accuracy: 0.9900 - val_loss: 0.0590 - val_accuracy: 0.9880\n",
      "Epoch 29/70\n",
      "300/300 [==============================] - 14s 46ms/step - loss: 0.0432 - accuracy: 0.9853 - val_loss: 0.0550 - val_accuracy: 0.9880\n",
      "Epoch 30/70\n",
      "300/300 [==============================] - 14s 47ms/step - loss: 0.0213 - accuracy: 0.9923 - val_loss: 0.0602 - val_accuracy: 0.9826\n",
      "Epoch 31/70\n",
      "300/300 [==============================] - 14s 46ms/step - loss: 0.0333 - accuracy: 0.9896 - val_loss: 0.0483 - val_accuracy: 0.9853\n",
      "Epoch 32/70\n",
      "300/300 [==============================] - 14s 46ms/step - loss: 0.0280 - accuracy: 0.9893 - val_loss: 0.0469 - val_accuracy: 0.9826\n",
      "Epoch 33/70\n",
      "300/300 [==============================] - 14s 45ms/step - loss: 0.0212 - accuracy: 0.9930 - val_loss: 0.0367 - val_accuracy: 0.9880\n",
      "Epoch 34/70\n",
      "300/300 [==============================] - 14s 45ms/step - loss: 0.0396 - accuracy: 0.9873 - val_loss: 0.0385 - val_accuracy: 0.9853\n",
      "Epoch 35/70\n",
      "300/300 [==============================] - 14s 46ms/step - loss: 0.0183 - accuracy: 0.9933 - val_loss: 0.0338 - val_accuracy: 0.9893\n",
      "Epoch 36/70\n",
      "300/300 [==============================] - 14s 46ms/step - loss: 0.0256 - accuracy: 0.9913 - val_loss: 0.0424 - val_accuracy: 0.9880\n",
      "Epoch 37/70\n",
      "300/300 [==============================] - 14s 46ms/step - loss: 0.0207 - accuracy: 0.9940 - val_loss: 0.0333 - val_accuracy: 0.9906\n",
      "Epoch 38/70\n",
      "300/300 [==============================] - 14s 46ms/step - loss: 0.0240 - accuracy: 0.9906 - val_loss: 0.0540 - val_accuracy: 0.9853\n",
      "Epoch 39/70\n",
      "300/300 [==============================] - 14s 46ms/step - loss: 0.0366 - accuracy: 0.9890 - val_loss: 0.0732 - val_accuracy: 0.9853\n",
      "Epoch 40/70\n",
      "300/300 [==============================] - 14s 46ms/step - loss: 0.0379 - accuracy: 0.9870 - val_loss: 0.0620 - val_accuracy: 0.9840\n",
      "Epoch 41/70\n",
      "300/300 [==============================] - 14s 45ms/step - loss: 0.0341 - accuracy: 0.9900 - val_loss: 0.0759 - val_accuracy: 0.9840\n",
      "Epoch 42/70\n",
      "300/300 [==============================] - 14s 45ms/step - loss: 0.0184 - accuracy: 0.9933 - val_loss: 0.0542 - val_accuracy: 0.9866\n",
      "Epoch 43/70\n",
      "300/300 [==============================] - 14s 46ms/step - loss: 0.0234 - accuracy: 0.9913 - val_loss: 0.0342 - val_accuracy: 0.9840\n",
      "Epoch 44/70\n",
      "300/300 [==============================] - 14s 46ms/step - loss: 0.0371 - accuracy: 0.9890 - val_loss: 0.0501 - val_accuracy: 0.9866\n",
      "Epoch 45/70\n",
      "300/300 [==============================] - 13s 45ms/step - loss: 0.0212 - accuracy: 0.9920 - val_loss: 0.1359 - val_accuracy: 0.9719\n",
      "Epoch 46/70\n",
      "300/300 [==============================] - 14s 46ms/step - loss: 0.0307 - accuracy: 0.9890 - val_loss: 0.0430 - val_accuracy: 0.9880\n",
      "Epoch 47/70\n",
      "300/300 [==============================] - 14s 46ms/step - loss: 0.0237 - accuracy: 0.9947 - val_loss: 0.0497 - val_accuracy: 0.9866\n",
      "Epoch 48/70\n",
      "300/300 [==============================] - 14s 45ms/step - loss: 0.0353 - accuracy: 0.9906 - val_loss: 0.0599 - val_accuracy: 0.9813\n",
      "Epoch 49/70\n",
      "300/300 [==============================] - 14s 46ms/step - loss: 0.0399 - accuracy: 0.9883 - val_loss: 0.0601 - val_accuracy: 0.9826\n",
      "Epoch 50/70\n",
      "300/300 [==============================] - 14s 46ms/step - loss: 0.0233 - accuracy: 0.9920 - val_loss: 0.0333 - val_accuracy: 0.9880\n",
      "Epoch 51/70\n",
      "300/300 [==============================] - 14s 46ms/step - loss: 0.0244 - accuracy: 0.9903 - val_loss: 0.0297 - val_accuracy: 0.9893\n",
      "Epoch 52/70\n",
      "300/300 [==============================] - 14s 46ms/step - loss: 0.0141 - accuracy: 0.9943 - val_loss: 0.0621 - val_accuracy: 0.9880\n",
      "Epoch 53/70\n",
      "300/300 [==============================] - 14s 46ms/step - loss: 0.0398 - accuracy: 0.9863 - val_loss: 0.0415 - val_accuracy: 0.9880\n",
      "Epoch 54/70\n",
      "300/300 [==============================] - 14s 46ms/step - loss: 0.0251 - accuracy: 0.9910 - val_loss: 0.0323 - val_accuracy: 0.9906\n",
      "Epoch 55/70\n",
      "300/300 [==============================] - 15s 49ms/step - loss: 0.0265 - accuracy: 0.9913 - val_loss: 0.0411 - val_accuracy: 0.9893\n",
      "Epoch 56/70\n",
      "300/300 [==============================] - 15s 48ms/step - loss: 0.0333 - accuracy: 0.9893 - val_loss: 0.0375 - val_accuracy: 0.9880\n",
      "Epoch 57/70\n",
      "300/300 [==============================] - 14s 46ms/step - loss: 0.0296 - accuracy: 0.9900 - val_loss: 0.0385 - val_accuracy: 0.9906\n",
      "Epoch 58/70\n",
      "300/300 [==============================] - 14s 46ms/step - loss: 0.0202 - accuracy: 0.9926 - val_loss: 0.0391 - val_accuracy: 0.9866\n",
      "Epoch 59/70\n",
      "300/300 [==============================] - 14s 46ms/step - loss: 0.0224 - accuracy: 0.9903 - val_loss: 0.0478 - val_accuracy: 0.9893\n",
      "Epoch 60/70\n",
      "300/300 [==============================] - 14s 46ms/step - loss: 0.0385 - accuracy: 0.9896 - val_loss: 0.0342 - val_accuracy: 0.9866\n",
      "Epoch 61/70\n",
      "300/300 [==============================] - 14s 46ms/step - loss: 0.0180 - accuracy: 0.9923 - val_loss: 0.0433 - val_accuracy: 0.9893\n",
      "Epoch 62/70\n",
      "300/300 [==============================] - 14s 47ms/step - loss: 0.0240 - accuracy: 0.9930 - val_loss: 0.0531 - val_accuracy: 0.9893\n",
      "Epoch 63/70\n",
      "300/300 [==============================] - 14s 47ms/step - loss: 0.0307 - accuracy: 0.9893 - val_loss: 0.0366 - val_accuracy: 0.9906\n",
      "Epoch 64/70\n",
      "300/300 [==============================] - 14s 47ms/step - loss: 0.0246 - accuracy: 0.9910 - val_loss: 0.0384 - val_accuracy: 0.9906\n",
      "Epoch 65/70\n",
      "300/300 [==============================] - 14s 47ms/step - loss: 0.0312 - accuracy: 0.9883 - val_loss: 0.0488 - val_accuracy: 0.9893\n",
      "Epoch 66/70\n",
      "300/300 [==============================] - 14s 47ms/step - loss: 0.0265 - accuracy: 0.9900 - val_loss: 0.0553 - val_accuracy: 0.9866\n",
      "Epoch 67/70\n",
      "300/300 [==============================] - 14s 46ms/step - loss: 0.0205 - accuracy: 0.9926 - val_loss: 0.0411 - val_accuracy: 0.9880\n",
      "Epoch 68/70\n",
      "300/300 [==============================] - 14s 46ms/step - loss: 0.0240 - accuracy: 0.9916 - val_loss: 0.0454 - val_accuracy: 0.9893\n",
      "Epoch 69/70\n",
      "300/300 [==============================] - 14s 46ms/step - loss: 0.0226 - accuracy: 0.9936 - val_loss: 0.0848 - val_accuracy: 0.9759\n",
      "Epoch 70/70\n",
      "300/300 [==============================] - 14s 47ms/step - loss: 0.0354 - accuracy: 0.9870 - val_loss: 0.0685 - val_accuracy: 0.9893\n"
     ]
    }
   ],
   "source": [
    "history = model.fit(training_data,\n",
    "                    batch_size=32,\n",
    "                    epochs=70,\n",
    "                    validation_data=val_data,\n",
    "                    shuffle=True)"
   ]
  },
  {
   "cell_type": "code",
   "execution_count": 49,
   "id": "d7178e5f-30e2-443b-9c23-4e1b5c72452b",
   "metadata": {},
   "outputs": [
    {
     "data": {
      "image/png": "[encoded data removed]",
      "text/plain": [
       "<Figure size 432x288 with 1 Axes>"
      ]
     },
     "metadata": {
      "needs_background": "light"
     },
     "output_type": "display_data"
    }
   ],
   "source": [
    "plt.plot(history.history['accuracy'])\n",
    "plt.plot(history.history['val_accuracy'])\n",
    "plt.title('model accuracy')\n",
    "plt.ylabel('accuracy')\n",
    "plt.xlabel('epoch')\n",
    "plt.legend(['train',], loc='upper left')\n",
    "plt.show()"
   ]
  },
  {
   "cell_type": "code",
   "execution_count": 50,
   "id": "47b4788e-2284-481d-8c64-a7ae9f6aacdb",
   "metadata": {},
   "outputs": [
    {
     "data": {
      "image/png": "[encoded data removed]",
      "text/plain": [
       "<Figure size 432x288 with 1 Axes>"
      ]
     },
     "metadata": {
      "needs_background": "light"
     },
     "output_type": "display_data"
    }
   ],
   "source": [
    "plt.plot(history.history['loss'])\n",
    "plt.plot(history.history['val_loss'])\n",
    "plt.title('model loss')\n",
    "plt.ylabel('loss')\n",
    "plt.xlabel('epoch')\n",
    "plt.legend(['train'], loc='upper left')\n",
    "plt.show()"
   ]
  },
  {
   "cell_type": "code",
   "execution_count": 52,
   "id": "89862784-2ab2-4a49-b32b-73e4f6010ba2",
   "metadata": {},
   "outputs": [],
   "source": [
    "# model.save('CNN_3.h5')"
   ]
  },
  {
   "cell_type": "code",
   "execution_count": 56,
   "id": "14ad240e-150f-4b76-b58e-3bd06e5c4ad6",
   "metadata": {},
   "outputs": [
    {
     "name": "stdout",
     "output_type": "stream",
     "text": [
      "[[1.]]\n",
      "normal\n"
     ]
    }
   ],
   "source": [
    "import numpy as np\n",
    "from keras.preprocessing import image\n",
    "\n",
    "test_image = image.load_img(r'C:\\Users\\Dikshant Gupta\\Desktop\\GAIP\\Project\\Merged Dataset\\Test\\mehul.jpeg',target_size=(64,64))\n",
    "test_image = image.img_to_array(test_image)\n",
    "test_image = np.expand_dims(test_image, axis=0)\n",
    "result = model.predict(test_image)\n",
    "print(result)\n",
    "if result[0][0] >= 0.5:\n",
    "    p = 'normal'\n",
    "else:\n",
    "    p = 'cataract'\n",
    "print(p)"
   ]
  },
  {
   "cell_type": "code",
   "execution_count": 12,
   "id": "a31c806f-81a4-4a3e-bc1b-a7a9f4fa3af6",
   "metadata": {},
   "outputs": [
    {
     "ename": "SyntaxError",
     "evalue": "invalid syntax (2345228751.py, line 1)",
     "output_type": "error",
     "traceback": [
      "\u001b[1;36m  Input \u001b[1;32mIn [12]\u001b[1;36m\u001b[0m\n\u001b[1;33m    pipreqsnb .\u001b[0m\n\u001b[1;37m                ^\u001b[0m\n\u001b[1;31mSyntaxError\u001b[0m\u001b[1;31m:\u001b[0m invalid syntax\n"
     ]
    }
   ],
   "source": []
  },
  {
   "cell_type": "code",
   "execution_count": null,
   "id": "16c9c2eb-2c45-446a-aaf7-e58bdb43faa4",
   "metadata": {},
   "outputs": [],
   "source": []
  }
 ],
 "metadata": {
  "kernelspec": {
   "display_name": "Python 3 (ipykernel)",
   "language": "python",
   "name": "python3"
  },
  "language_info": {
   "codemirror_mode": {
    "name": "ipython",
    "version": 3
   },
   "file_extension": ".py",
   "mimetype": "text/x-python",
   "name": "python",
   "nbconvert_exporter": "python",
   "pygments_lexer": "ipython3",
   "version": "3.9.12"
  }
 },
 "nbformat": 4,
 "nbformat_minor": 5
}
